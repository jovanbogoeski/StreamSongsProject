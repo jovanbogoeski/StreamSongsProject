{
 "cells": [
  {
   "cell_type": "code",
   "execution_count": 2,
   "id": "66329158-4395-4764-896f-ad2a2367282d",
   "metadata": {},
   "outputs": [
    {
     "name": "stdout",
     "output_type": "stream",
     "text": [
      "Column Data Types:\n",
      "ts: IntegerType\n",
      "sessionId: IntegerType\n",
      "level: StringType\n",
      "itemInSession: IntegerType\n",
      "city: StringType\n",
      "zip: IntegerType\n",
      "state: StringType\n",
      "userAgent: StringType\n",
      "lon: DoubleType\n",
      "lat: DoubleType\n",
      "userId: DoubleType\n",
      "lastName: StringType\n",
      "firstName: StringType\n",
      "gender: StringType\n",
      "registration: DoubleType\n",
      "success: None\n"
     ]
    }
   ],
   "source": [
    "import pandas as pd\n",
    "import numpy as np\n",
    "\n",
    "# Load the CSV file from the specified location\n",
    "file_path = '/mnt/c/Users/Jovan Bogoevski/StreamsSongs/tables/auth_events_100.csv'\n",
    "data = pd.read_csv(file_path)\n",
    "\n",
    "# Function to map pandas dtypes to specific types\n",
    "def map_dtype_to_spark_type(dtype):\n",
    "    if pd.api.types.is_string_dtype(dtype):\n",
    "        return \"StringType\"\n",
    "    elif pd.api.types.is_numeric_dtype(dtype):\n",
    "        if pd.api.types.is_integer_dtype(dtype):\n",
    "            return \"IntegerType\"\n",
    "        elif pd.api.types.is_float_dtype(dtype):\n",
    "            return \"DoubleType\"\n",
    "    elif pd.api.types.is_bool_dtype(dtype):\n",
    "        return \"BooleanType\"\n",
    "    elif pd.api.types.is_datetime64_any_dtype(dtype):\n",
    "        return \"TimestampType\"\n",
    "    else:\n",
    "        return \"UnknownType\"\n",
    "\n",
    "# Check the type for each column\n",
    "print(\"Column Data Types:\")\n",
    "for column in data.columns:\n",
    "    dtype = data[column].dtype\n",
    "    spark_type = map_dtype_to_spark_type(dtype)\n",
    "    print(f\"{column}: {spark_type}\")\n"
   ]
  },
  {
   "cell_type": "code",
   "execution_count": null,
   "id": "328473d7-0d73-4b20-9a5b-04c107e81a5b",
   "metadata": {},
   "outputs": [],
   "source": []
  }
 ],
 "metadata": {
  "kernelspec": {
   "display_name": "Python 3 (ipykernel)",
   "language": "python",
   "name": "python3"
  },
  "language_info": {
   "codemirror_mode": {
    "name": "ipython",
    "version": 3
   },
   "file_extension": ".py",
   "mimetype": "text/x-python",
   "name": "python",
   "nbconvert_exporter": "python",
   "pygments_lexer": "ipython3",
   "version": "3.12.3"
  }
 },
 "nbformat": 4,
 "nbformat_minor": 5
}
