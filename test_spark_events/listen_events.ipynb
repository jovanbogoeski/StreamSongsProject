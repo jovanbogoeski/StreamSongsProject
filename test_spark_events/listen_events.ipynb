{
 "cells": [
  {
   "cell_type": "code",
   "execution_count": 1,
   "metadata": {},
   "outputs": [
    {
     "name": "stderr",
     "output_type": "stream",
     "text": [
      "your 131072x1 screen size is bogus. expect trouble\n",
      "24/12/05 14:44:56 WARN Utils: Your hostname, DESKTOP-C1UKSNA resolves to a loopback address: 127.0.1.1; using 172.24.216.244 instead (on interface eth0)\n",
      "24/12/05 14:44:56 WARN Utils: Set SPARK_LOCAL_IP if you need to bind to another address\n",
      "Setting default log level to \"WARN\".\n",
      "To adjust logging level use sc.setLogLevel(newLevel). For SparkR, use setLogLevel(newLevel).\n",
      "24/12/05 14:44:58 WARN NativeCodeLoader: Unable to load native-hadoop library for your platform... using builtin-java classes where applicable\n",
      "24/12/05 14:44:59 WARN Utils: Service 'SparkUI' could not bind on port 4040. Attempting port 4041.\n"
     ]
    }
   ],
   "source": [
    "from pyspark.sql import SparkSession\n",
    "from pyspark.sql import functions as F\n",
    "import pandas as pd\n",
    "from pyspark.sql.functions import col, to_date, count\n",
    "from pyspark.sql.functions import from_unixtime\n",
    "\n",
    "spark = SparkSession.builder \\\n",
    "    .appName(\"Test_listen_events\") \\\n",
    "    .getOrCreate()"
   ]
  },
  {
   "cell_type": "code",
   "execution_count": null,
   "metadata": {},
   "outputs": [],
   "source": []
  },
  {
   "cell_type": "code",
   "execution_count": 2,
   "metadata": {},
   "outputs": [
    {
     "name": "stderr",
     "output_type": "stream",
     "text": [
      "                                                                                \r"
     ]
    },
    {
     "name": "stdout",
     "output_type": "stream",
     "text": [
      "root\n",
      " |-- artist: string (nullable = true)\n",
      " |-- song: string (nullable = true)\n",
      " |-- duration: double (nullable = true)\n",
      " |-- ts: long (nullable = true)\n",
      " |-- sessionId: integer (nullable = true)\n",
      " |-- auth: string (nullable = true)\n",
      " |-- level: string (nullable = true)\n",
      " |-- itemInSession: integer (nullable = true)\n",
      " |-- city: string (nullable = true)\n",
      " |-- zip: string (nullable = true)\n",
      " |-- state: string (nullable = true)\n",
      " |-- userAgent: string (nullable = true)\n",
      " |-- lon: double (nullable = true)\n",
      " |-- lat: double (nullable = true)\n",
      " |-- userId: long (nullable = true)\n",
      " |-- lastName: string (nullable = true)\n",
      " |-- firstName: string (nullable = true)\n",
      " |-- gender: string (nullable = true)\n",
      " |-- registration: date (nullable = true)\n",
      "\n"
     ]
    },
    {
     "name": "stderr",
     "output_type": "stream",
     "text": [
      "                                                                                \r"
     ]
    },
    {
     "name": "stdout",
     "output_type": "stream",
     "text": [
      "+--------------------+--------------------+---------+-------------+---------+---------+-----+-------------+-----------+-----+-----+--------------------+----------+---------+------+-----------+---------+------+------------+\n",
      "|              artist|                song| duration|           ts|sessionId|     auth|level|itemInSession|       city|  zip|state|           userAgent|       lon|      lat|userId|   lastName|firstName|gender|registration|\n",
      "+--------------------+--------------------+---------+-------------+---------+---------+-----+-------------+-----------+-----+-----+--------------------+----------+---------+------+-----------+---------+------+------------+\n",
      "|                MIKA|         Grace Kelly|188.08118|1609459241000|     1741|Logged In| paid|           85|   Verdigre|68783|   NE|Mozilla/5.0 (Maci...|-98.159234|42.618474|   187|      Smith|    Riley|     F|  2021-06-14|\n",
      "|California Swag D...|Teach Me How To D...| 239.1767|1609459350000|     1729|Logged In| paid|          110|Clarksville|21029|   MD|\"Mozilla/5.0 (Mac...|-76.959448|39.213616|   873|        Gay|   Athena|     F|  2021-07-06|\n",
      "|Mike And The Mech...|A Beggar On A Bea...| 275.1212|1609459429000|     1741|Logged In| paid|           86|   Verdigre|68783|   NE|Mozilla/5.0 (Maci...|-98.159234|42.618474|   187|      Smith|    Riley|     F|  2021-04-04|\n",
      "|    Edith MÃÂ¡rquez|     Hazme Olvidarlo|222.04036|1609459589000|     1729|Logged In| paid|          111|Clarksville|21029|   MD|\"Mozilla/5.0 (Mac...|-76.959448|39.213616|   873|        Gay|   Athena|     F|  2021-08-29|\n",
      "|       Kings Of Leon|        Use Somebody| 231.2616|1609459704000|     1741|Logged In| paid|           87|   Verdigre|68783|   NE|Mozilla/5.0 (Maci...|-98.159234|42.618474|   187|      Smith|    Riley|     F|  2021-06-18|\n",
      "|       Justin Bieber|    Somebody To Love|220.89098|1609459811000|     1729|Logged In| paid|          112|Clarksville|21029|   MD|\"Mozilla/5.0 (Mac...|-76.959448|39.213616|   873|        Gay|   Athena|     F|  2021-09-10|\n",
      "|        Say Anything|Every Man Has A M...|184.92036|1609459935000|     1741|Logged In| paid|           88|   Verdigre|68783|   NE|Mozilla/5.0 (Maci...|-98.159234|42.618474|   187|      Smith|    Riley|     F|  2021-01-29|\n",
      "|            Coldplay|    Strawberry Swing|249.23383|1609460031000|     1729|Logged In| paid|          113|Clarksville|21029|   MD|\"Mozilla/5.0 (Mac...|-76.959448|39.213616|   873|        Gay|   Athena|     F|  2021-01-15|\n",
      "|      Lisa Miskovsky|Once Gone_ Always...| 256.2869|1609460119000|     1741|Logged In| paid|           89|   Verdigre|68783|   NE|Mozilla/5.0 (Maci...|-98.159234|42.618474|   187|      Smith|    Riley|     F|  2021-10-24|\n",
      "|        Chris Tomlin| The Wonderful Cross|423.70566|1609460280000|     1729|Logged In| paid|          114|Clarksville|21029|   MD|\"Mozilla/5.0 (Mac...|-76.959448|39.213616|   873|        Gay|   Athena|     F|  2021-07-26|\n",
      "|         The Prodigy|     The Big Gundown|260.07465|1609460375000|     1741|Logged In| paid|           90|   Verdigre|68783|   NE|Mozilla/5.0 (Maci...|-98.159234|42.618474|   187|      Smith|    Riley|     F|  2021-01-11|\n",
      "|            Interpol|   Rest My Chemistry|299.72852|1609460452000|     1674|Logged In| free|            1|    Wichita|67204|   KS|Mozilla/5.0 (Wind...|-97.360492|37.767146|   428|Blankenship|   Reagan|     F|  2021-01-21|\n",
      "|              Cocoon|         Hummingbird|203.85915|1609460635000|     1741|Logged In| paid|           91|   Verdigre|68783|   NE|Mozilla/5.0 (Maci...|-98.159234|42.618474|   187|      Smith|    Riley|     F|  2021-03-06|\n",
      "|  Scarlett Johansson|I Don't Wanna Gro...|  251.402|1609460703000|     1729|Logged In| paid|          115|Clarksville|21029|   MD|\"Mozilla/5.0 (Mac...|-76.959448|39.213616|   873|        Gay|   Athena|     F|  2021-02-23|\n",
      "|Two Door Cinema Club|Eat That Up_ It's...|223.86893|1609460751000|     1674|Logged In| free|            2|    Wichita|67204|   KS|Mozilla/5.0 (Wind...|-97.360492|37.767146|   428|Blankenship|   Reagan|     F|  2021-10-07|\n",
      "|            Harmonia|       Sehr kosmisch| 655.7775|1609460838000|     1741|Logged In| paid|           92|   Verdigre|68783|   NE|Mozilla/5.0 (Maci...|-98.159234|42.618474|   187|      Smith|    Riley|     F|  2021-03-26|\n",
      "|            The Cars|  Magic (LP Version)|238.75873|1609460954000|     1729|Logged In| paid|          116|Clarksville|21029|   MD|\"Mozilla/5.0 (Mac...|-76.959448|39.213616|   873|        Gay|   Athena|     F|  2021-12-19|\n",
      "|       Kings Of Leon|             Revelry|201.79546|1609460974000|     1674|Logged In| free|            3|    Wichita|67204|   KS|Mozilla/5.0 (Wind...|-97.360492|37.767146|   428|Blankenship|   Reagan|     F|  2021-11-05|\n",
      "| Gustavo Santaolalla|        Morning Pray|126.04036|1609461192000|     1729|Logged In| paid|          117|Clarksville|21029|   MD|\"Mozilla/5.0 (Mac...|-76.959448|39.213616|   873|        Gay|   Athena|     F|  2021-08-07|\n",
      "|    Enrique Iglesias|                Hero|  264.202|1609461318000|     1729|Logged In| paid|          118|Clarksville|21029|   MD|\"Mozilla/5.0 (Mac...|-76.959448|39.213616|   873|        Gay|   Athena|     F|  2021-10-17|\n",
      "+--------------------+--------------------+---------+-------------+---------+---------+-----+-------------+-----------+-----+-----+--------------------+----------+---------+------+-----------+---------+------+------------+\n",
      "only showing top 20 rows\n",
      "\n"
     ]
    }
   ],
   "source": [
    "data_path = \"/mnt/c/Users/Jovan Bogoevski/StreamsSongs/processed_topics/listen_events\"\n",
    "\n",
    "data = spark.read.parquet(data_path)\n",
    "\n",
    "data.printSchema()\n",
    "\n",
    "data.show()"
   ]
  },
  {
   "cell_type": "code",
   "execution_count": 3,
   "metadata": {},
   "outputs": [
    {
     "name": "stdout",
     "output_type": "stream",
     "text": [
      "Total number of rows in listen events: 1188827\n"
     ]
    }
   ],
   "source": [
    "row_count = data.count()\n",
    "\n",
    "# Print the row count\n",
    "print(f\"Total number of rows in listen events: {row_count}\")"
   ]
  },
  {
   "cell_type": "code",
   "execution_count": 4,
   "metadata": {},
   "outputs": [
    {
     "name": "stderr",
     "output_type": "stream",
     "text": [
      "[Stage 6:===================================================>       (7 + 1) / 8]\r"
     ]
    },
    {
     "name": "stdout",
     "output_type": "stream",
     "text": [
      "Total number of unique IDs: 1000\n"
     ]
    },
    {
     "name": "stderr",
     "output_type": "stream",
     "text": [
      "                                                                                \r"
     ]
    }
   ],
   "source": [
    "# Count the number of unique IDs in the 'userId' column\n",
    "unique_id_count = data.select(\"userId\").distinct().count()\n",
    "\n",
    "# Print the unique ID count\n",
    "print(f\"Total number of unique IDs: {unique_id_count}\")\n"
   ]
  },
  {
   "cell_type": "code",
   "execution_count": 5,
   "metadata": {},
   "outputs": [
    {
     "name": "stderr",
     "output_type": "stream",
     "text": [
      "[Stage 12:==================================================>       (7 + 1) / 8]\r"
     ]
    },
    {
     "name": "stdout",
     "output_type": "stream",
     "text": [
      "Total number of unique city combinations: 956\n"
     ]
    },
    {
     "name": "stderr",
     "output_type": "stream",
     "text": [
      "                                                                                \r"
     ]
    }
   ],
   "source": [
    "unique_city_combinations = data.select(\n",
    "    col(\"city\").alias(\"city_name\"),\n",
    "    col(\"state\"),\n",
    "    col(\"zip\").alias(\"zip_code\"),\n",
    "    col(\"lat\").alias(\"latitude\"),\n",
    "    col(\"lon\").alias(\"longitude\")\n",
    ").dropDuplicates().count()\n",
    "print(f\"Total number of unique city combinations: {unique_city_combinations}\")"
   ]
  },
  {
   "cell_type": "code",
   "execution_count": null,
   "metadata": {},
   "outputs": [],
   "source": [
    "unique_city_combinations = data.select(\n",
    "    col(\"artist\").alias(\"artist_name\"),\n",
    "    col(\"lat\").alias(\"latitude\"),\n",
    "    col(\"lon\").alias(\"longitude\")\n",
    ").dropDuplicates().count()\n",
    "print(f\"Total number of unique city combinations: {unique_city_combinations}\")"
   ]
  },
  {
   "cell_type": "code",
   "execution_count": 6,
   "metadata": {},
   "outputs": [
    {
     "name": "stderr",
     "output_type": "stream",
     "text": [
      "[Stage 18:==================================================>       (7 + 1) / 8]\r"
     ]
    },
    {
     "name": "stdout",
     "output_type": "stream",
     "text": [
      "Unique artists in source dataset: 26702\n"
     ]
    },
    {
     "name": "stderr",
     "output_type": "stream",
     "text": [
      "                                                                                \r"
     ]
    }
   ],
   "source": [
    "unique_artists_in_source = data.select(\n",
    "    col(\"artist\").alias(\"artist_name\")\n",
    ").dropDuplicates([\"artist_name\"]).count()\n",
    "print(f\"Unique artists in source dataset: {unique_artists_in_source}\")\n"
   ]
  },
  {
   "cell_type": "code",
   "execution_count": 7,
   "metadata": {},
   "outputs": [
    {
     "name": "stderr",
     "output_type": "stream",
     "text": [
      "[Stage 24:==================================================>       (7 + 1) / 8]\r"
     ]
    },
    {
     "name": "stdout",
     "output_type": "stream",
     "text": [
      "Unique songs in source dataset: 144231\n"
     ]
    },
    {
     "name": "stderr",
     "output_type": "stream",
     "text": [
      "                                                                                \r"
     ]
    }
   ],
   "source": [
    "unique_songs_in_source = data.select(\n",
    "    col(\"song\").alias(\"song_name\"),\n",
    "    col(\"duration\").alias(\"song_duration\")\n",
    ").dropDuplicates([\"song_name\", \"song_duration\"]).count()\n",
    "print(f\"Unique songs in source dataset: {unique_songs_in_source}\")\n"
   ]
  },
  {
   "cell_type": "code",
   "execution_count": 8,
   "metadata": {},
   "outputs": [
    {
     "name": "stdout",
     "output_type": "stream",
     "text": [
      "Unique sessions in source dataset: 85147\n"
     ]
    }
   ],
   "source": [
    "source_session_count = data.select(\"sessionId\").distinct().count()\n",
    "print(f\"Unique sessions in source dataset: {source_session_count}\")"
   ]
  },
  {
   "cell_type": "code",
   "execution_count": 10,
   "metadata": {},
   "outputs": [
    {
     "name": "stderr",
     "output_type": "stream",
     "text": [
      "[Stage 42:==================================================>       (7 + 1) / 8]\r"
     ]
    },
    {
     "name": "stdout",
     "output_type": "stream",
     "text": [
      "Source unique timestamps: 1161431\n"
     ]
    },
    {
     "name": "stderr",
     "output_type": "stream",
     "text": [
      "                                                                                \r"
     ]
    }
   ],
   "source": [
    "source_unique_timestamps = data.select(\n",
    "    from_unixtime(col(\"ts\") / 1000).alias(\"timestamp\")\n",
    ").distinct().count()\n",
    "print(f\"Source unique timestamps: {source_unique_timestamps}\")\n"
   ]
  },
  {
   "cell_type": "code",
   "execution_count": 11,
   "metadata": {},
   "outputs": [
    {
     "name": "stdout",
     "output_type": "stream",
     "text": [
      "Source unique device: 83\n"
     ]
    },
    {
     "name": "stderr",
     "output_type": "stream",
     "text": [
      "                                                                                \r"
     ]
    }
   ],
   "source": [
    "source_unique_device = data.select(\"userAgent\").distinct().count()\n",
    "print(f\"Source unique device: {source_unique_device}\")"
   ]
  }
 ],
 "metadata": {
  "kernelspec": {
   "display_name": ".venv",
   "language": "python",
   "name": "python3"
  },
  "language_info": {
   "codemirror_mode": {
    "name": "ipython",
    "version": 3
   },
   "file_extension": ".py",
   "mimetype": "text/x-python",
   "name": "python",
   "nbconvert_exporter": "python",
   "pygments_lexer": "ipython3",
   "version": "3.12.3"
  }
 },
 "nbformat": 4,
 "nbformat_minor": 2
}
