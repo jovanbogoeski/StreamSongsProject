{
 "cells": [
  {
   "cell_type": "code",
   "execution_count": 1,
   "id": "cfb12f93-89a5-44fc-b8ed-388018aa1a11",
   "metadata": {},
   "outputs": [
    {
     "data": {
      "text/html": [
       "<div>\n",
       "<style scoped>\n",
       "    .dataframe tbody tr th:only-of-type {\n",
       "        vertical-align: middle;\n",
       "    }\n",
       "\n",
       "    .dataframe tbody tr th {\n",
       "        vertical-align: top;\n",
       "    }\n",
       "\n",
       "    .dataframe thead th {\n",
       "        text-align: right;\n",
       "    }\n",
       "</style>\n",
       "<table border=\"1\" class=\"dataframe\">\n",
       "  <thead>\n",
       "    <tr style=\"text-align: right;\">\n",
       "      <th></th>\n",
       "      <th>ts</th>\n",
       "      <th>sessionId</th>\n",
       "      <th>auth</th>\n",
       "      <th>level</th>\n",
       "      <th>itemInSession</th>\n",
       "      <th>city</th>\n",
       "      <th>zip</th>\n",
       "      <th>state</th>\n",
       "      <th>userAgent</th>\n",
       "      <th>lon</th>\n",
       "      <th>lat</th>\n",
       "      <th>userId</th>\n",
       "      <th>lastName</th>\n",
       "      <th>firstName</th>\n",
       "      <th>gender</th>\n",
       "      <th>registration</th>\n",
       "    </tr>\n",
       "  </thead>\n",
       "  <tbody>\n",
       "    <tr>\n",
       "      <th>0</th>\n",
       "      <td>1617995363000</td>\n",
       "      <td>8256</td>\n",
       "      <td>Logged In</td>\n",
       "      <td>free</td>\n",
       "      <td>4</td>\n",
       "      <td>Novato</td>\n",
       "      <td>94947</td>\n",
       "      <td>CA</td>\n",
       "      <td>\"Mozilla/5.0 (Macintosh; Intel Mac OS X 10_9_4...</td>\n",
       "      <td>-122.634384</td>\n",
       "      <td>38.112166</td>\n",
       "      <td>41</td>\n",
       "      <td>Garrison</td>\n",
       "      <td>Tucker</td>\n",
       "      <td>M</td>\n",
       "      <td>1616086800000</td>\n",
       "    </tr>\n",
       "    <tr>\n",
       "      <th>1</th>\n",
       "      <td>1618073217000</td>\n",
       "      <td>8332</td>\n",
       "      <td>Logged In</td>\n",
       "      <td>free</td>\n",
       "      <td>2</td>\n",
       "      <td>Marion</td>\n",
       "      <td>46953</td>\n",
       "      <td>IN</td>\n",
       "      <td>Mozilla/5.0 (Windows NT 6.2; WOW64; rv:31.0) G...</td>\n",
       "      <td>-85.643344</td>\n",
       "      <td>40.519416</td>\n",
       "      <td>397</td>\n",
       "      <td>Hayes</td>\n",
       "      <td>Joseph</td>\n",
       "      <td>M</td>\n",
       "      <td>1616086800000</td>\n",
       "    </tr>\n",
       "    <tr>\n",
       "      <th>2</th>\n",
       "      <td>1618096799000</td>\n",
       "      <td>8549</td>\n",
       "      <td>Logged In</td>\n",
       "      <td>free</td>\n",
       "      <td>6</td>\n",
       "      <td>Louisville</td>\n",
       "      <td>40218</td>\n",
       "      <td>KY</td>\n",
       "      <td>\"Mozilla/5.0 (Macintosh; Intel Mac OS X 10_9_4...</td>\n",
       "      <td>-85.654311</td>\n",
       "      <td>38.189321</td>\n",
       "      <td>266</td>\n",
       "      <td>Daniel</td>\n",
       "      <td>Collin</td>\n",
       "      <td>M</td>\n",
       "      <td>1616086800000</td>\n",
       "    </tr>\n",
       "    <tr>\n",
       "      <th>3</th>\n",
       "      <td>1618144517000</td>\n",
       "      <td>8089</td>\n",
       "      <td>Logged In</td>\n",
       "      <td>free</td>\n",
       "      <td>11</td>\n",
       "      <td>North Augusta</td>\n",
       "      <td>29841</td>\n",
       "      <td>SC</td>\n",
       "      <td>\"Mozilla/5.0 (Windows NT 6.3; WOW64) AppleWebK...</td>\n",
       "      <td>-81.939337</td>\n",
       "      <td>33.526407</td>\n",
       "      <td>882</td>\n",
       "      <td>Hanna</td>\n",
       "      <td>Brody</td>\n",
       "      <td>M</td>\n",
       "      <td>1616086800000</td>\n",
       "    </tr>\n",
       "    <tr>\n",
       "      <th>4</th>\n",
       "      <td>1618235135000</td>\n",
       "      <td>9008</td>\n",
       "      <td>Logged In</td>\n",
       "      <td>free</td>\n",
       "      <td>4</td>\n",
       "      <td>Winnsboro</td>\n",
       "      <td>75494</td>\n",
       "      <td>TX</td>\n",
       "      <td>\"Mozilla/5.0 (Macintosh; Intel Mac OS X 10_8_5...</td>\n",
       "      <td>-95.259860</td>\n",
       "      <td>32.917192</td>\n",
       "      <td>291</td>\n",
       "      <td>Johnson</td>\n",
       "      <td>Emely</td>\n",
       "      <td>F</td>\n",
       "      <td>1616086800000</td>\n",
       "    </tr>\n",
       "  </tbody>\n",
       "</table>\n",
       "</div>"
      ],
      "text/plain": [
       "              ts  sessionId       auth level  itemInSession           city  \\\n",
       "0  1617995363000       8256  Logged In  free              4         Novato   \n",
       "1  1618073217000       8332  Logged In  free              2         Marion   \n",
       "2  1618096799000       8549  Logged In  free              6     Louisville   \n",
       "3  1618144517000       8089  Logged In  free             11  North Augusta   \n",
       "4  1618235135000       9008  Logged In  free              4      Winnsboro   \n",
       "\n",
       "     zip state                                          userAgent         lon  \\\n",
       "0  94947    CA  \"Mozilla/5.0 (Macintosh; Intel Mac OS X 10_9_4... -122.634384   \n",
       "1  46953    IN  Mozilla/5.0 (Windows NT 6.2; WOW64; rv:31.0) G...  -85.643344   \n",
       "2  40218    KY  \"Mozilla/5.0 (Macintosh; Intel Mac OS X 10_9_4...  -85.654311   \n",
       "3  29841    SC  \"Mozilla/5.0 (Windows NT 6.3; WOW64) AppleWebK...  -81.939337   \n",
       "4  75494    TX  \"Mozilla/5.0 (Macintosh; Intel Mac OS X 10_8_5...  -95.259860   \n",
       "\n",
       "         lat  userId  lastName firstName gender   registration  \n",
       "0  38.112166      41  Garrison    Tucker      M  1616086800000  \n",
       "1  40.519416     397     Hayes    Joseph      M  1616086800000  \n",
       "2  38.189321     266    Daniel    Collin      M  1616086800000  \n",
       "3  33.526407     882     Hanna     Brody      M  1616086800000  \n",
       "4  32.917192     291   Johnson     Emely      F  1616086800000  "
      ]
     },
     "execution_count": 1,
     "metadata": {},
     "output_type": "execute_result"
    }
   ],
   "source": [
    "import pandas as pd\n",
    "import matplotlib.pyplot as plt\n",
    "import seaborn as sns\n",
    "\n",
    "# Load the dataset\n",
    "status_events = pd.read_csv('/mnt/c/Users/Jovan Bogoevski/StreamsSongs/tables/status_change_events_100.csv')\n",
    "status_events.head(5)"
   ]
  },
  {
   "cell_type": "code",
   "execution_count": 3,
   "id": "84175b6d-7625-495a-b21a-fbccfda16e79",
   "metadata": {},
   "outputs": [
    {
     "name": "stdout",
     "output_type": "stream",
     "text": [
      "ts                 int64\n",
      "sessionId          int64\n",
      "auth              object\n",
      "level             object\n",
      "itemInSession      int64\n",
      "city              object\n",
      "zip                int64\n",
      "state             object\n",
      "userAgent         object\n",
      "lon              float64\n",
      "lat              float64\n",
      "userId             int64\n",
      "lastName          object\n",
      "firstName         object\n",
      "gender            object\n",
      "registration       int64\n",
      "dtype: object\n"
     ]
    }
   ],
   "source": [
    "print(status_events.dtypes)"
   ]
  },
  {
   "cell_type": "code",
   "execution_count": null,
   "id": "0085cb15-15f6-41d7-937e-9562030e0ec8",
   "metadata": {},
   "outputs": [],
   "source": [
    "'''\n",
    "The attributes of the status_change_events_10.csv dataset are as follows:\n",
    "\n",
    "ts: Timestamp of the event in milliseconds (integer).\n",
    "sessionId: Unique identifier for the session (integer).\n",
    "auth: Authorization status of the user (string).\n",
    "level: Subscription level of the user (e.g., \"paid\" or \"free\") (string).\n",
    "itemInSession: Position of the item in the session (integer).\n",
    "city: City of the user's location (string).\n",
    "zip: ZIP code of the user's location (integer).\n",
    "state: State of the user's location (string).\n",
    "userAgent: User's browser and OS details (string).\n",
    "lon: Longitude of the user's location (float).\n",
    "lat: Latitude of the user's location (float).\n",
    "userId: Unique identifier for the user (integer).\n",
    "lastName: Last name of the user (string).\n",
    "firstName: First name of the user (string).\n",
    "gender: Gender of the user (string).\n",
    "registration: User's registration time in milliseconds (integer).\n",
    "'''"
   ]
  },
  {
   "cell_type": "code",
   "execution_count": 3,
   "id": "526af072-b46c-4f98-8d48-e962f191da42",
   "metadata": {},
   "outputs": [
    {
     "data": {
      "image/png": "[encoded data removed]",
      "text/plain": [
       "<Figure size 800x500 with 1 Axes>"
      ]
     },
     "metadata": {},
     "output_type": "display_data"
    }
   ],
   "source": [
    "# Plot 1: Distribution of Authorization Status\n",
    "plt.figure(figsize=(8, 5))\n",
    "status_events['auth'].value_counts().plot(kind='bar', color='skyblue')\n",
    "plt.title(\"Distribution of Authorization Status\")\n",
    "plt.xlabel(\"Authorization Status\")\n",
    "plt.ylabel(\"Count\")\n",
    "plt.xticks(rotation=0)\n",
    "plt.show()"
   ]
  },
  {
   "cell_type": "code",
   "execution_count": 4,
   "id": "e04e4cb1-c938-4274-b785-05afff4c220f",
   "metadata": {},
   "outputs": [
    {
     "data": {
      "image/png": "[encoded data removed]",
      "text/plain": [
       "<Figure size 800x500 with 1 Axes>"
      ]
     },
     "metadata": {},
     "output_type": "display_data"
    }
   ],
   "source": [
    "# Plot 3: Status Change Counts by User Level\n",
    "plt.figure(figsize=(8, 5))\n",
    "status_events['level'].value_counts().plot(kind='bar', color=['salmon', 'lightgreen'])\n",
    "plt.title(\"Status Change Counts by User Level\")\n",
    "plt.xlabel(\"User Level\")\n",
    "plt.ylabel(\"Count\")\n",
    "plt.xticks(rotation=0)\n",
    "plt.show()"
   ]
  },
  {
   "cell_type": "code",
   "execution_count": null,
   "id": "6376d04d-2dab-4c02-841e-c4711a23284f",
   "metadata": {},
   "outputs": [],
   "source": []
  }
 ],
 "metadata": {
  "kernelspec": {
   "display_name": "Python 3 (ipykernel)",
   "language": "python",
   "name": "python3"
  },
  "language_info": {
   "codemirror_mode": {
    "name": "ipython",
    "version": 3
   },
   "file_extension": ".py",
   "mimetype": "text/x-python",
   "name": "python",
   "nbconvert_exporter": "python",
   "pygments_lexer": "ipython3",
   "version": "3.12.3"
  }
 },
 "nbformat": 4,
 "nbformat_minor": 5
}
