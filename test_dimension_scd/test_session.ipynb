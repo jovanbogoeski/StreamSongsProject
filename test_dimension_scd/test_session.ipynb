{
 "cells": [
  {
   "cell_type": "code",
   "execution_count": null,
   "metadata": {
    "vscode": {
     "languageId": "plaintext"
    }
   },
   "outputs": [],
   "source": [
    "from pyspark.sql import SparkSession\n",
    "from pyspark.sql import functions as F\n",
    "import pandas as pd\n",
    "\n",
    "spark = SparkSession.builder \\\n",
    "    .appName(\"Test_city_dimension\") \\\n",
    "    .getOrCreate()"
   ]
  },
  {
   "cell_type": "code",
   "execution_count": null,
   "metadata": {
    "vscode": {
     "languageId": "plaintext"
    }
   },
   "outputs": [],
   "source": [
    "data_path = \"/mnt/c/Users/Jovan Bogoevski/StreamsSongs/dimension_resul/dim_session\"\n",
    "\n",
    "data = spark.read.parquet(data_path)\n",
    "\n",
    "data.printSchema()\n",
    "\n",
    "row_count = data.count()\n",
    "\n",
    "# Print the row count\n",
    "print(f\"Total number of rows: {row_count}\")"
   ]
  }
 ],
 "metadata": {
  "language_info": {
   "name": "python"
  }
 },
 "nbformat": 4,
 "nbformat_minor": 2
}
