{
 "cells": [
  {
   "cell_type": "code",
   "execution_count": 1,
   "metadata": {},
   "outputs": [
    {
     "name": "stderr",
     "output_type": "stream",
     "text": [
      "your 131072x1 screen size is bogus. expect trouble\n",
      "24/12/09 15:19:17 WARN Utils: Your hostname, DESKTOP-C1UKSNA resolves to a loopback address: 127.0.1.1; using 172.24.216.244 instead (on interface eth0)\n",
      "24/12/09 15:19:17 WARN Utils: Set SPARK_LOCAL_IP if you need to bind to another address\n",
      "Setting default log level to \"WARN\".\n",
      "To adjust logging level use sc.setLogLevel(newLevel). For SparkR, use setLogLevel(newLevel).\n",
      "24/12/09 15:19:19 WARN NativeCodeLoader: Unable to load native-hadoop library for your platform... using builtin-java classes where applicable\n"
     ]
    }
   ],
   "source": [
    "\n",
    "from pyspark.sql import SparkSession\n",
    "from pyspark.sql import functions as F\n",
    "import pandas as pd\n",
    "\n",
    "spark = SparkSession.builder \\\n",
    "    .appName(\"Test_date_dimension\") \\\n",
    "    .getOrCreate()"
   ]
  },
  {
   "cell_type": "code",
   "execution_count": 2,
   "metadata": {},
   "outputs": [
    {
     "name": "stderr",
     "output_type": "stream",
     "text": [
      "                                                                                \r"
     ]
    },
    {
     "name": "stdout",
     "output_type": "stream",
     "text": [
      "root\n",
      " |-- userId: long (nullable = true)\n",
      " |-- firstName: string (nullable = true)\n",
      " |-- lastName: string (nullable = true)\n",
      " |-- gender: string (nullable = true)\n",
      " |-- level: string (nullable = true)\n",
      " |-- registration_date: timestamp (nullable = true)\n",
      " |-- last_seen_date: timestamp (nullable = true)\n",
      " |-- start_date: date (nullable = true)\n",
      " |-- end_date: date (nullable = true)\n",
      " |-- is_active: boolean (nullable = true)\n",
      " |-- user_id: integer (nullable = true)\n",
      " |-- userKey: double (nullable = true)\n",
      " |-- year: integer (nullable = true)\n",
      " |-- month: integer (nullable = true)\n",
      "\n"
     ]
    }
   ],
   "source": [
    "data_path = \"/mnt/c/Users/Jovan Bogoevski/StreamsSongs/dimension_resul/dim_user\"\n",
    "\n",
    "data = spark.read.parquet(data_path)\n",
    "\n",
    "data.printSchema()"
   ]
  },
  {
   "cell_type": "code",
   "execution_count": null,
   "metadata": {},
   "outputs": [
    {
     "name": "stderr",
     "output_type": "stream",
     "text": [
      "                                                                                \r"
     ]
    },
    {
     "name": "stdout",
     "output_type": "stream",
     "text": [
      "Total number of rows: 1393\n"
     ]
    },
    {
     "name": "stderr",
     "output_type": "stream",
     "text": [
      "                                                                                \r"
     ]
    },
    {
     "name": "stdout",
     "output_type": "stream",
     "text": [
      "+------+---------+-----------+------+-----+-------------------+-------------------+----------+--------+---------+-------+-------+----+-----+\n",
      "|userId|firstName|   lastName|gender|level|  registration_date|     last_seen_date|start_date|end_date|is_active|user_id|userKey|year|month|\n",
      "+------+---------+-----------+------+-----+-------------------+-------------------+----------+--------+---------+-------+-------+----+-----+\n",
      "|   187|    Riley|      Smith|     F| paid|2021-01-01 01:00:41|2021-12-29 14:58:00|2024-12-09|    NULL|     true|      1|   NULL|2021|    1|\n",
      "|   873|   Athena|        Gay|     F| paid|2021-01-01 01:02:30|2021-12-29 17:22:03|2024-12-09|    NULL|     true|      2|   NULL|2021|    1|\n",
      "|   428|   Reagan|Blankenship|     F| free|2021-01-01 01:20:52|2021-12-31 17:49:04|2024-12-09|    NULL|     true|      3|   NULL|2021|    1|\n",
      "|   662|   Olivia|      Myers|     F| free|2021-01-01 01:43:05|2021-12-31 17:21:39|2024-12-09|    NULL|     true|      4|   NULL|2021|    1|\n",
      "|   794|     Skye|    Russell|     F| free|2021-01-01 02:18:32|2021-10-19 21:24:08|2024-12-09|    NULL|     true|      5|   NULL|2021|    1|\n",
      "|   484|     Lois|  Henderson|     F| free|2021-01-01 02:36:41|2021-10-20 06:01:58|2024-12-09|    NULL|     true|      6|   NULL|2021|    1|\n",
      "|   440|   Shelby|      Patel|     F| free|2021-01-01 02:45:55|2021-06-10 13:28:40|2024-12-09|    NULL|     true|      7|   NULL|2021|    1|\n",
      "|   331|   Aviana|       Ross|     F| free|2021-01-01 03:07:45|2021-03-10 23:13:40|2024-12-09|    NULL|     true|      8|   NULL|2021|    1|\n",
      "|   616|     Cade|     George|     M| paid|2021-01-01 03:15:00|2021-12-26 15:48:53|2024-12-09|    NULL|     true|      9|   NULL|2021|    1|\n",
      "|   352|     Evan|      Lucas|     M| free|2021-01-01 03:49:46|2021-09-02 07:36:15|2024-12-09|    NULL|     true|     10|   NULL|2021|    1|\n",
      "|   398|    Laila|     Hanson|     F| free|2021-01-01 03:55:51|2021-04-30 16:34:59|2024-12-09|    NULL|     true|     11|   NULL|2021|    1|\n",
      "|   670|     Joel|      Davis|     M| free|2021-01-01 04:09:06|2021-12-30 13:42:01|2024-12-09|    NULL|     true|     12|   NULL|2021|    1|\n",
      "|   699|   Brooke|    Johnson|     F| free|2021-01-01 04:14:21|2021-12-24 18:49:42|2024-12-09|    NULL|     true|     13|   NULL|2021|    1|\n",
      "|    68|   Monica|      Jones|     F| free|2021-01-01 04:22:22|2021-03-10 00:55:22|2024-12-09|    NULL|     true|     14|   NULL|2021|    1|\n",
      "|   822|    Jacob|     Booker|     M| free|2021-01-01 04:57:28|2021-11-09 11:50:34|2024-12-09|    NULL|     true|     15|   NULL|2021|    1|\n",
      "|   916|    Jvion|     Graham|     M| free|2021-01-01 05:10:32|2021-12-31 16:33:10|2024-12-09|    NULL|     true|     16|   NULL|2021|    1|\n",
      "|   118|    Khloe|      Smith|     F| free|2021-01-01 05:38:33|2021-07-01 13:32:32|2024-12-09|    NULL|     true|     17|   NULL|2021|    1|\n",
      "|   983|   Alyssa|    Schmidt|     F| free|2021-01-01 05:41:11|2021-12-21 17:25:35|2024-12-09|    NULL|     true|     18|   NULL|2021|    1|\n",
      "|   613|Gabriella|     Thomas|     F| free|2021-01-01 06:04:12|2021-11-17 15:52:19|2024-12-09|    NULL|     true|     19|   NULL|2021|    1|\n",
      "|   944|Elizabeth|    Shelton|     F| free|2021-01-01 06:04:50|2021-08-04 17:51:55|2024-12-09|    NULL|     true|     20|   NULL|2021|    1|\n",
      "+------+---------+-----------+------+-----+-------------------+-------------------+----------+--------+---------+-------+-------+----+-----+\n",
      "only showing top 20 rows\n",
      "\n"
     ]
    }
   ],
   "source": [
    "row_count = .count()\n",
    "\n",
    "# Print the row count\n",
    "print(f\"Total number of rows: {row_count}\")\n",
    "\n",
    "data.show()\n",
    "\n",
    "data.select(\"userKey\").distinct().count()\n",
    "print(f\"Total number of userkey: {row_count}\")\n"
   ]
  }
 ],
 "metadata": {
  "kernelspec": {
   "display_name": ".venv",
   "language": "python",
   "name": "python3"
  },
  "language_info": {
   "codemirror_mode": {
    "name": "ipython",
    "version": 3
   },
   "file_extension": ".py",
   "mimetype": "text/x-python",
   "name": "python",
   "nbconvert_exporter": "python",
   "pygments_lexer": "ipython3",
   "version": "3.12.3"
  }
 },
 "nbformat": 4,
 "nbformat_minor": 2
}
