{
 "cells": [
  {
   "cell_type": "code",
   "execution_count": 1,
   "metadata": {},
   "outputs": [
    {
     "name": "stderr",
     "output_type": "stream",
     "text": [
      "your 131072x1 screen size is bogus. expect trouble\n",
      "24/12/11 15:13:38 WARN Utils: Your hostname, DESKTOP-C1UKSNA resolves to a loopback address: 127.0.1.1; using 172.24.216.244 instead (on interface eth0)\n",
      "24/12/11 15:13:38 WARN Utils: Set SPARK_LOCAL_IP if you need to bind to another address\n",
      "Setting default log level to \"WARN\".\n",
      "To adjust logging level use sc.setLogLevel(newLevel). For SparkR, use setLogLevel(newLevel).\n",
      "24/12/11 15:13:40 WARN NativeCodeLoader: Unable to load native-hadoop library for your platform... using builtin-java classes where applicable\n",
      "24/12/11 15:13:41 WARN Utils: Service 'SparkUI' could not bind on port 4040. Attempting port 4041.\n"
     ]
    }
   ],
   "source": [
    "from pyspark.sql import SparkSession\n",
    "from pyspark.sql import functions as F\n",
    "import pandas as pd\n",
    "from pyspark.sql.functions import col, count, sum, to_date, from_unixtime\n",
    "\n",
    "spark = SparkSession.builder \\\n",
    "    .appName(\"Test_central_fact_table\") \\\n",
    "    .getOrCreate()"
   ]
  },
  {
   "cell_type": "code",
   "execution_count": null,
   "metadata": {},
   "outputs": [
    {
     "name": "stderr",
     "output_type": "stream",
     "text": [
      "                                                                                \r"
     ]
    },
    {
     "name": "stdout",
     "output_type": "stream",
     "text": [
      "root\n",
      " |-- userKey: double (nullable = true)\n",
      " |-- song_id: integer (nullable = true)\n",
      " |-- artist_id: integer (nullable = true)\n",
      " |-- city_id: integer (nullable = true)\n",
      " |-- datetime_id: long (nullable = true)\n",
      " |-- session_id_fk: integer (nullable = true)\n",
      " |-- level: string (nullable = true)\n",
      " |-- ts: long (nullable = true)\n",
      " |-- duration: double (nullable = true)\n",
      " |-- plays_count: integer (nullable = true)\n",
      "\n"
     ]
    },
    {
     "name": "stderr",
     "output_type": "stream",
     "text": [
      "                                                                                \r"
     ]
    },
    {
     "name": "stdout",
     "output_type": "stream",
     "text": [
      "+-------+-------+---------+-------+-----------+-------------+-----+-------------+---------+-----------+\n",
      "|userKey|song_id|artist_id|city_id|datetime_id|session_id_fk|level|           ts| duration|plays_count|\n",
      "+-------+-------+---------+-------+-----------+-------------+-----+-------------+---------+-----------+\n",
      "|   NULL|  45899|   391197|    896|       NULL|         1741| paid|1609459241000|188.08118|          1|\n",
      "|   NULL| 117064|   108863|    164|       NULL|         1729| paid|1609459350000| 239.1767|          1|\n",
      "|   NULL|   1120|   421700|    896|       NULL|         1741| paid|1609459429000| 275.1212|          1|\n",
      "|   NULL|  48196|   197741|    164|       NULL|         1729| paid|1609459589000|222.04036|          1|\n",
      "|   NULL| 132163|   348605|    896|       NULL|         1741| paid|1609459704000| 231.2616|          1|\n",
      "|   NULL| 109358|   330069|    164|       NULL|         1729| paid|1609459811000|220.89098|          1|\n",
      "|   NULL|  36030|   534458|    896|       NULL|         1741| paid|1609459935000|184.92036|          1|\n",
      "|   NULL| 113248|   137662|    164|       NULL|         1729| paid|1609460031000|249.23383|          1|\n",
      "|   NULL|  87629|   374843|    896|       NULL|         1741| paid|1609460119000| 256.2869|          1|\n",
      "|   NULL| 124620|   129144|    164|       NULL|         1729| paid|1609460280000|423.70566|          1|\n",
      "|   NULL| 118735|   633383|    896|       NULL|         1741| paid|1609460375000|260.07465|          1|\n",
      "|   NULL|  98147|   287501|    934|       NULL|         1674| free|1609460452000|299.72852|          1|\n",
      "|   NULL|  52473|   135699|    896|       NULL|         1741| paid|1609460635000|203.85915|          1|\n",
      "|   NULL|  53746|   534970|    164|       NULL|         1729| paid|1609460703000|  251.402|          1|\n",
      "|   NULL|  33045|   673463|    934|       NULL|         1674| free|1609460751000|223.86893|          1|\n",
      "|   NULL| 103452|   269160|    896|       NULL|         1741| paid|1609460838000| 655.7775|          1|\n",
      "|   NULL|  74153|   603591|    164|       NULL|         1729| paid|1609460954000|238.75873|          1|\n",
      "|   NULL|  98374|   348315|    934|       NULL|         1674| free|1609460974000|201.79546|          1|\n",
      "|   NULL|  79337|   264593|    164|       NULL|         1729| paid|1609461192000|126.04036|          1|\n",
      "|   NULL|  49719|   209897|    164|       NULL|         1729| paid|1609461318000|  264.202|          1|\n",
      "+-------+-------+---------+-------+-----------+-------------+-----+-------------+---------+-----------+\n",
      "only showing top 20 rows\n",
      "\n",
      "Total number of rows: 1188827\n"
     ]
    }
   ],
   "source": [
    "data_path = \"/mnt/c/Users/Jovan Bogoevski/StreamsSongs/fact_table_with_hour\"\n",
    "\n",
    "data = spark.read.parquet(data_path)\n",
    "\n",
    "data.printSchema()\n",
    "\n",
    "row_count = data.count()\n",
    "\n",
    "data.show()\n",
    "\n",
    "# Print the row count\n",
    "print(f\"Total number of rows: {row_count}\")"
   ]
  }
 ],
 "metadata": {
  "kernelspec": {
   "display_name": ".venv",
   "language": "python",
   "name": "python3"
  },
  "language_info": {
   "codemirror_mode": {
    "name": "ipython",
    "version": 3
   },
   "file_extension": ".py",
   "mimetype": "text/x-python",
   "name": "python",
   "nbconvert_exporter": "python",
   "pygments_lexer": "ipython3",
   "version": "3.12.3"
  }
 },
 "nbformat": 4,
 "nbformat_minor": 2
}
