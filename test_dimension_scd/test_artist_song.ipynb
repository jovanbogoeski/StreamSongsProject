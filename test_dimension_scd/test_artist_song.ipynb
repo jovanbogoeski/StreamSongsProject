{
 "cells": [
  {
   "cell_type": "code",
   "execution_count": null,
   "metadata": {},
   "outputs": [],
   "source": [
    "from pyspark.sql import SparkSession\n",
    "from pyspark.sql import functions as F\n",
    "import pandas as pd\n",
    "\n",
    "spark = SparkSession.builder \\\n",
    "    .appName(\"Test_artist_dimension\") \\\n",
    "    .getOrCreate()"
   ]
  },
  {
   "cell_type": "code",
   "execution_count": null,
   "metadata": {},
   "outputs": [],
   "source": [
    "data_path = \"/mnt/c/Users/Jovan Bogoevski/StreamsSongs/dimension_resul/dim_artist\"\n",
    "\n",
    "data = spark.read.parquet(data_path)\n",
    "\n",
    "data.printSchema()\n",
    "\n",
    "row_count = data.count()\n",
    "\n",
    "data.show()\n",
    "\n",
    "# Print the row count\n",
    "print(f\"Total number of rows: {row_count}\")"
   ]
  }
 ],
 "metadata": {
  "kernelspec": {
   "display_name": ".venv",
   "language": "python",
   "name": "python3"
  },
  "language_info": {
   "codemirror_mode": {
    "name": "ipython",
    "version": 3
   },
   "file_extension": ".py",
   "mimetype": "text/x-python",
   "name": "python",
   "nbconvert_exporter": "python",
   "pygments_lexer": "ipython3",
   "version": "3.12.3"
  }
 },
 "nbformat": 4,
 "nbformat_minor": 2
}
