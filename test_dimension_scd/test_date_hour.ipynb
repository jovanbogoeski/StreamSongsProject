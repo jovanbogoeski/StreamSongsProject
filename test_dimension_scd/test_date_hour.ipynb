{
 "cells": [
  {
   "cell_type": "code",
   "execution_count": 1,
   "metadata": {},
   "outputs": [
    {
     "name": "stderr",
     "output_type": "stream",
     "text": [
      "your 131072x1 screen size is bogus. expect trouble\n",
      "24/12/11 13:41:40 WARN Utils: Your hostname, DESKTOP-C1UKSNA resolves to a loopback address: 127.0.1.1; using 172.24.216.244 instead (on interface eth0)\n",
      "24/12/11 13:41:40 WARN Utils: Set SPARK_LOCAL_IP if you need to bind to another address\n",
      "Setting default log level to \"WARN\".\n",
      "To adjust logging level use sc.setLogLevel(newLevel). For SparkR, use setLogLevel(newLevel).\n",
      "24/12/11 13:41:42 WARN NativeCodeLoader: Unable to load native-hadoop library for your platform... using builtin-java classes where applicable\n",
      "24/12/11 13:41:44 WARN Utils: Service 'SparkUI' could not bind on port 4040. Attempting port 4041.\n"
     ]
    }
   ],
   "source": [
    "from pyspark.sql import SparkSession\n",
    "from pyspark.sql import functions as F\n",
    "import pandas as pd\n",
    "\n",
    "spark = SparkSession.builder \\\n",
    "    .appName(\"Test_date_dimension\") \\\n",
    "    .getOrCreate()"
   ]
  },
  {
   "cell_type": "code",
   "execution_count": 2,
   "metadata": {},
   "outputs": [
    {
     "name": "stderr",
     "output_type": "stream",
     "text": [
      "                                                                                \r"
     ]
    },
    {
     "name": "stdout",
     "output_type": "stream",
     "text": [
      "root\n",
      " |-- date: timestamp (nullable = true)\n",
      " |-- DateSK: long (nullable = true)\n",
      " |-- Quarter: integer (nullable = true)\n",
      " |-- Hour: integer (nullable = true)\n",
      " |-- Week: integer (nullable = true)\n",
      " |-- QuarterNameLong: string (nullable = true)\n",
      " |-- QuarterNameShort: string (nullable = true)\n",
      " |-- QuarterNumberString: string (nullable = true)\n",
      " |-- MonthNameLong: string (nullable = true)\n",
      " |-- MonthNameShort: string (nullable = true)\n",
      " |-- MonthNumberString: string (nullable = true)\n",
      " |-- DayNumberString: string (nullable = true)\n",
      " |-- WeekNameLong: string (nullable = true)\n",
      " |-- WeekNameShort: string (nullable = true)\n",
      " |-- WeekNumberString: string (nullable = true)\n",
      " |-- DayOfWeek: integer (nullable = true)\n",
      " |-- YearMonthString: string (nullable = true)\n",
      " |-- DayOfWeekNameLong: string (nullable = true)\n",
      " |-- DayOfWeekNameShort: string (nullable = true)\n",
      " |-- DayOfMonth: integer (nullable = true)\n",
      " |-- DayOfYear: integer (nullable = true)\n",
      " |-- Year: integer (nullable = true)\n",
      " |-- Month: integer (nullable = true)\n",
      " |-- Day: integer (nullable = true)\n",
      "\n"
     ]
    },
    {
     "name": "stderr",
     "output_type": "stream",
     "text": [
      "                                                                                \r"
     ]
    },
    {
     "name": "stdout",
     "output_type": "stream",
     "text": [
      "+-------------------+----------+-------+----+----+---------------+----------------+-------------------+-------------+--------------+-----------------+---------------+------------+-------------+----------------+---------+---------------+-----------------+------------------+----------+---------+----+-----+---+\n",
      "|               date|    DateSK|Quarter|Hour|Week|QuarterNameLong|QuarterNameShort|QuarterNumberString|MonthNameLong|MonthNameShort|MonthNumberString|DayNumberString|WeekNameLong|WeekNameShort|WeekNumberString|DayOfWeek|YearMonthString|DayOfWeekNameLong|DayOfWeekNameShort|DayOfMonth|DayOfYear|Year|Month|Day|\n",
      "+-------------------+----------+-------+----+----+---------------+----------------+-------------------+-------------+--------------+-----------------+---------------+------------+-------------+----------------+---------+---------------+-----------------+------------------+----------+---------+----+-----+---+\n",
      "|2021-09-18 00:00:00|2021091800|      3|   0|  37|    3rd quarter|              Q3|                 03|    September|           Sep|               09|             18|      week37|          w37|              37|        7|        2021/09|         Saturday|               Sat|        18|      261|2021|    9| 18|\n",
      "|2021-09-18 01:00:00|2021091801|      3|   1|  37|    3rd quarter|              Q3|                 03|    September|           Sep|               09|             18|      week37|          w37|              37|        7|        2021/09|         Saturday|               Sat|        18|      261|2021|    9| 18|\n",
      "|2021-09-18 02:00:00|2021091802|      3|   2|  37|    3rd quarter|              Q3|                 03|    September|           Sep|               09|             18|      week37|          w37|              37|        7|        2021/09|         Saturday|               Sat|        18|      261|2021|    9| 18|\n",
      "|2021-09-18 03:00:00|2021091803|      3|   3|  37|    3rd quarter|              Q3|                 03|    September|           Sep|               09|             18|      week37|          w37|              37|        7|        2021/09|         Saturday|               Sat|        18|      261|2021|    9| 18|\n",
      "|2021-09-18 04:00:00|2021091804|      3|   4|  37|    3rd quarter|              Q3|                 03|    September|           Sep|               09|             18|      week37|          w37|              37|        7|        2021/09|         Saturday|               Sat|        18|      261|2021|    9| 18|\n",
      "|2021-09-18 05:00:00|2021091805|      3|   5|  37|    3rd quarter|              Q3|                 03|    September|           Sep|               09|             18|      week37|          w37|              37|        7|        2021/09|         Saturday|               Sat|        18|      261|2021|    9| 18|\n",
      "|2021-09-18 06:00:00|2021091806|      3|   6|  37|    3rd quarter|              Q3|                 03|    September|           Sep|               09|             18|      week37|          w37|              37|        7|        2021/09|         Saturday|               Sat|        18|      261|2021|    9| 18|\n",
      "|2021-09-18 07:00:00|2021091807|      3|   7|  37|    3rd quarter|              Q3|                 03|    September|           Sep|               09|             18|      week37|          w37|              37|        7|        2021/09|         Saturday|               Sat|        18|      261|2021|    9| 18|\n",
      "|2021-09-18 08:00:00|2021091808|      3|   8|  37|    3rd quarter|              Q3|                 03|    September|           Sep|               09|             18|      week37|          w37|              37|        7|        2021/09|         Saturday|               Sat|        18|      261|2021|    9| 18|\n",
      "|2021-09-18 09:00:00|2021091809|      3|   9|  37|    3rd quarter|              Q3|                 03|    September|           Sep|               09|             18|      week37|          w37|              37|        7|        2021/09|         Saturday|               Sat|        18|      261|2021|    9| 18|\n",
      "|2021-09-18 10:00:00|2021091810|      3|  10|  37|    3rd quarter|              Q3|                 03|    September|           Sep|               09|             18|      week37|          w37|              37|        7|        2021/09|         Saturday|               Sat|        18|      261|2021|    9| 18|\n",
      "|2021-09-18 11:00:00|2021091811|      3|  11|  37|    3rd quarter|              Q3|                 03|    September|           Sep|               09|             18|      week37|          w37|              37|        7|        2021/09|         Saturday|               Sat|        18|      261|2021|    9| 18|\n",
      "|2021-09-18 12:00:00|2021091812|      3|  12|  37|    3rd quarter|              Q3|                 03|    September|           Sep|               09|             18|      week37|          w37|              37|        7|        2021/09|         Saturday|               Sat|        18|      261|2021|    9| 18|\n",
      "|2021-09-18 13:00:00|2021091813|      3|  13|  37|    3rd quarter|              Q3|                 03|    September|           Sep|               09|             18|      week37|          w37|              37|        7|        2021/09|         Saturday|               Sat|        18|      261|2021|    9| 18|\n",
      "|2021-09-18 14:00:00|2021091814|      3|  14|  37|    3rd quarter|              Q3|                 03|    September|           Sep|               09|             18|      week37|          w37|              37|        7|        2021/09|         Saturday|               Sat|        18|      261|2021|    9| 18|\n",
      "|2021-09-18 15:00:00|2021091815|      3|  15|  37|    3rd quarter|              Q3|                 03|    September|           Sep|               09|             18|      week37|          w37|              37|        7|        2021/09|         Saturday|               Sat|        18|      261|2021|    9| 18|\n",
      "|2021-09-18 16:00:00|2021091816|      3|  16|  37|    3rd quarter|              Q3|                 03|    September|           Sep|               09|             18|      week37|          w37|              37|        7|        2021/09|         Saturday|               Sat|        18|      261|2021|    9| 18|\n",
      "|2021-09-18 17:00:00|2021091817|      3|  17|  37|    3rd quarter|              Q3|                 03|    September|           Sep|               09|             18|      week37|          w37|              37|        7|        2021/09|         Saturday|               Sat|        18|      261|2021|    9| 18|\n",
      "|2021-09-18 18:00:00|2021091818|      3|  18|  37|    3rd quarter|              Q3|                 03|    September|           Sep|               09|             18|      week37|          w37|              37|        7|        2021/09|         Saturday|               Sat|        18|      261|2021|    9| 18|\n",
      "|2021-09-18 19:00:00|2021091819|      3|  19|  37|    3rd quarter|              Q3|                 03|    September|           Sep|               09|             18|      week37|          w37|              37|        7|        2021/09|         Saturday|               Sat|        18|      261|2021|    9| 18|\n",
      "+-------------------+----------+-------+----+----+---------------+----------------+-------------------+-------------+--------------+-----------------+---------------+------------+-------------+----------------+---------+---------------+-----------------+------------------+----------+---------+----+-----+---+\n",
      "only showing top 20 rows\n",
      "\n",
      "Total number of rows: 8760\n"
     ]
    }
   ],
   "source": [
    "data_path = \"/mnt/c/Users/Jovan Bogoevski/StreamsSongs/dimension_resul/dim_datetime_2021_hourly\"\n",
    "\n",
    "data = spark.read.parquet(data_path)\n",
    "\n",
    "data.printSchema()\n",
    "\n",
    "row_count = data.count()\n",
    "\n",
    "data.show()\n",
    "\n",
    "# Print the row count\n",
    "print(f\"Total number of rows: {row_count}\")"
   ]
  },
  {
   "cell_type": "code",
   "execution_count": null,
   "metadata": {},
   "outputs": [
    {
     "name": "stderr",
     "output_type": "stream",
     "text": [
      "                                                                                \r"
     ]
    },
    {
     "name": "stdout",
     "output_type": "stream",
     "text": [
      "+-------------------+\n",
      "|          max(Date)|\n",
      "+-------------------+\n",
      "|2021-12-31 23:00:00|\n",
      "+-------------------+\n",
      "\n"
     ]
    },
    {
     "ename": "AnalysisException",
     "evalue": "[UNRESOLVED_COLUMN.WITH_SUGGESTION] A column or function parameter with name `count` cannot be resolved. Did you mean one of the following? [`Date`, `count(Hour)`].; line 1 pos 0;\n'Filter ('count < 24)\n+- Aggregate [Date#0], [Date#0, count(Hour#3) AS count(Hour)#235L]\n   +- Relation [date#0,DateSK#1L,Quarter#2,Hour#3,Week#4,QuarterNameLong#5,QuarterNameShort#6,QuarterNumberString#7,MonthNameLong#8,MonthNameShort#9,MonthNumberString#10,DayNumberString#11,WeekNameLong#12,WeekNameShort#13,WeekNumberString#14,DayOfWeek#15,YearMonthString#16,DayOfWeekNameLong#17,DayOfWeekNameShort#18,DayOfMonth#19,DayOfYear#20,Year#21,Month#22,Day#23] parquet\n",
     "output_type": "error",
     "traceback": [
      "\u001b[0;31m---------------------------------------------------------------------------\u001b[0m",
      "\u001b[0;31mAnalysisException\u001b[0m                         Traceback (most recent call last)",
      "Cell \u001b[0;32mIn[3], line 2\u001b[0m\n\u001b[1;32m      1\u001b[0m data\u001b[38;5;241m.\u001b[39magg({\u001b[38;5;124m\"\u001b[39m\u001b[38;5;124mDate\u001b[39m\u001b[38;5;124m\"\u001b[39m: \u001b[38;5;124m\"\u001b[39m\u001b[38;5;124mmin\u001b[39m\u001b[38;5;124m\"\u001b[39m, \u001b[38;5;124m\"\u001b[39m\u001b[38;5;124mDate\u001b[39m\u001b[38;5;124m\"\u001b[39m: \u001b[38;5;124m\"\u001b[39m\u001b[38;5;124mmax\u001b[39m\u001b[38;5;124m\"\u001b[39m})\u001b[38;5;241m.\u001b[39mshow()\n\u001b[0;32m----> 2\u001b[0m \u001b[43mdata\u001b[49m\u001b[38;5;241;43m.\u001b[39;49m\u001b[43mgroupBy\u001b[49m\u001b[43m(\u001b[49m\u001b[38;5;124;43m\"\u001b[39;49m\u001b[38;5;124;43mDate\u001b[39;49m\u001b[38;5;124;43m\"\u001b[39;49m\u001b[43m)\u001b[49m\u001b[38;5;241;43m.\u001b[39;49m\u001b[43magg\u001b[49m\u001b[43m(\u001b[49m\u001b[43m{\u001b[49m\u001b[38;5;124;43m\"\u001b[39;49m\u001b[38;5;124;43mHour\u001b[39;49m\u001b[38;5;124;43m\"\u001b[39;49m\u001b[43m:\u001b[49m\u001b[43m \u001b[49m\u001b[38;5;124;43m\"\u001b[39;49m\u001b[38;5;124;43mcount\u001b[39;49m\u001b[38;5;124;43m\"\u001b[39;49m\u001b[43m}\u001b[49m\u001b[43m)\u001b[49m\u001b[38;5;241;43m.\u001b[39;49m\u001b[43mfilter\u001b[49m\u001b[43m(\u001b[49m\u001b[38;5;124;43m\"\u001b[39;49m\u001b[38;5;124;43mcount < 24\u001b[39;49m\u001b[38;5;124;43m\"\u001b[39;49m\u001b[43m)\u001b[49m\u001b[38;5;241m.\u001b[39mshow()\n",
      "File \u001b[0;32m/mnt/c/Users/Jovan Bogoevski/StreamsSongs/.venv/lib/python3.12/site-packages/pyspark/sql/dataframe.py:3329\u001b[0m, in \u001b[0;36mDataFrame.filter\u001b[0;34m(self, condition)\u001b[0m\n\u001b[1;32m   3273\u001b[0m \u001b[38;5;250m\u001b[39m\u001b[38;5;124;03m\"\"\"Filters rows using the given condition.\u001b[39;00m\n\u001b[1;32m   3274\u001b[0m \n\u001b[1;32m   3275\u001b[0m \u001b[38;5;124;03m:func:`where` is an alias for :func:`filter`.\u001b[39;00m\n\u001b[0;32m   (...)\u001b[0m\n\u001b[1;32m   3326\u001b[0m \u001b[38;5;124;03m+---+-----+\u001b[39;00m\n\u001b[1;32m   3327\u001b[0m \u001b[38;5;124;03m\"\"\"\u001b[39;00m\n\u001b[1;32m   3328\u001b[0m \u001b[38;5;28;01mif\u001b[39;00m \u001b[38;5;28misinstance\u001b[39m(condition, \u001b[38;5;28mstr\u001b[39m):\n\u001b[0;32m-> 3329\u001b[0m     jdf \u001b[38;5;241m=\u001b[39m \u001b[38;5;28;43mself\u001b[39;49m\u001b[38;5;241;43m.\u001b[39;49m\u001b[43m_jdf\u001b[49m\u001b[38;5;241;43m.\u001b[39;49m\u001b[43mfilter\u001b[49m\u001b[43m(\u001b[49m\u001b[43mcondition\u001b[49m\u001b[43m)\u001b[49m\n\u001b[1;32m   3330\u001b[0m \u001b[38;5;28;01melif\u001b[39;00m \u001b[38;5;28misinstance\u001b[39m(condition, Column):\n\u001b[1;32m   3331\u001b[0m     jdf \u001b[38;5;241m=\u001b[39m \u001b[38;5;28mself\u001b[39m\u001b[38;5;241m.\u001b[39m_jdf\u001b[38;5;241m.\u001b[39mfilter(condition\u001b[38;5;241m.\u001b[39m_jc)\n",
      "File \u001b[0;32m/mnt/c/Users/Jovan Bogoevski/StreamsSongs/.venv/lib/python3.12/site-packages/py4j/java_gateway.py:1322\u001b[0m, in \u001b[0;36mJavaMember.__call__\u001b[0;34m(self, *args)\u001b[0m\n\u001b[1;32m   1316\u001b[0m command \u001b[38;5;241m=\u001b[39m proto\u001b[38;5;241m.\u001b[39mCALL_COMMAND_NAME \u001b[38;5;241m+\u001b[39m\\\n\u001b[1;32m   1317\u001b[0m     \u001b[38;5;28mself\u001b[39m\u001b[38;5;241m.\u001b[39mcommand_header \u001b[38;5;241m+\u001b[39m\\\n\u001b[1;32m   1318\u001b[0m     args_command \u001b[38;5;241m+\u001b[39m\\\n\u001b[1;32m   1319\u001b[0m     proto\u001b[38;5;241m.\u001b[39mEND_COMMAND_PART\n\u001b[1;32m   1321\u001b[0m answer \u001b[38;5;241m=\u001b[39m \u001b[38;5;28mself\u001b[39m\u001b[38;5;241m.\u001b[39mgateway_client\u001b[38;5;241m.\u001b[39msend_command(command)\n\u001b[0;32m-> 1322\u001b[0m return_value \u001b[38;5;241m=\u001b[39m \u001b[43mget_return_value\u001b[49m\u001b[43m(\u001b[49m\n\u001b[1;32m   1323\u001b[0m \u001b[43m    \u001b[49m\u001b[43manswer\u001b[49m\u001b[43m,\u001b[49m\u001b[43m \u001b[49m\u001b[38;5;28;43mself\u001b[39;49m\u001b[38;5;241;43m.\u001b[39;49m\u001b[43mgateway_client\u001b[49m\u001b[43m,\u001b[49m\u001b[43m \u001b[49m\u001b[38;5;28;43mself\u001b[39;49m\u001b[38;5;241;43m.\u001b[39;49m\u001b[43mtarget_id\u001b[49m\u001b[43m,\u001b[49m\u001b[43m \u001b[49m\u001b[38;5;28;43mself\u001b[39;49m\u001b[38;5;241;43m.\u001b[39;49m\u001b[43mname\u001b[49m\u001b[43m)\u001b[49m\n\u001b[1;32m   1325\u001b[0m \u001b[38;5;28;01mfor\u001b[39;00m temp_arg \u001b[38;5;129;01min\u001b[39;00m temp_args:\n\u001b[1;32m   1326\u001b[0m     \u001b[38;5;28;01mif\u001b[39;00m \u001b[38;5;28mhasattr\u001b[39m(temp_arg, \u001b[38;5;124m\"\u001b[39m\u001b[38;5;124m_detach\u001b[39m\u001b[38;5;124m\"\u001b[39m):\n",
      "File \u001b[0;32m/mnt/c/Users/Jovan Bogoevski/StreamsSongs/.venv/lib/python3.12/site-packages/pyspark/errors/exceptions/captured.py:185\u001b[0m, in \u001b[0;36mcapture_sql_exception.<locals>.deco\u001b[0;34m(*a, **kw)\u001b[0m\n\u001b[1;32m    181\u001b[0m converted \u001b[38;5;241m=\u001b[39m convert_exception(e\u001b[38;5;241m.\u001b[39mjava_exception)\n\u001b[1;32m    182\u001b[0m \u001b[38;5;28;01mif\u001b[39;00m \u001b[38;5;129;01mnot\u001b[39;00m \u001b[38;5;28misinstance\u001b[39m(converted, UnknownException):\n\u001b[1;32m    183\u001b[0m     \u001b[38;5;66;03m# Hide where the exception came from that shows a non-Pythonic\u001b[39;00m\n\u001b[1;32m    184\u001b[0m     \u001b[38;5;66;03m# JVM exception message.\u001b[39;00m\n\u001b[0;32m--> 185\u001b[0m     \u001b[38;5;28;01mraise\u001b[39;00m converted \u001b[38;5;28;01mfrom\u001b[39;00m \u001b[38;5;28;01mNone\u001b[39;00m\n\u001b[1;32m    186\u001b[0m \u001b[38;5;28;01melse\u001b[39;00m:\n\u001b[1;32m    187\u001b[0m     \u001b[38;5;28;01mraise\u001b[39;00m\n",
      "\u001b[0;31mAnalysisException\u001b[0m: [UNRESOLVED_COLUMN.WITH_SUGGESTION] A column or function parameter with name `count` cannot be resolved. Did you mean one of the following? [`Date`, `count(Hour)`].; line 1 pos 0;\n'Filter ('count < 24)\n+- Aggregate [Date#0], [Date#0, count(Hour#3) AS count(Hour)#235L]\n   +- Relation [date#0,DateSK#1L,Quarter#2,Hour#3,Week#4,QuarterNameLong#5,QuarterNameShort#6,QuarterNumberString#7,MonthNameLong#8,MonthNameShort#9,MonthNumberString#10,DayNumberString#11,WeekNameLong#12,WeekNameShort#13,WeekNumberString#14,DayOfWeek#15,YearMonthString#16,DayOfWeekNameLong#17,DayOfWeekNameShort#18,DayOfMonth#19,DayOfYear#20,Year#21,Month#22,Day#23] parquet\n"
     ]
    }
   ],
   "source": [
    "# Check if all dates have 24 hours\n",
    "data.groupBy(\"Date\").agg({\"Hour\": \"count\"}).withColumnRenamed(\"count(Hour)\", \"hour_count\").filter(\"hour_count < 24\").show()\n",
    "\n",
    "# Check the range of dates in dim_datetime\n",
    "data.agg({\"Date\": \"min\", \"Date\": \"max\"}).show()\n",
    "\n"
   ]
  }
 ],
 "metadata": {
  "kernelspec": {
   "display_name": ".venv",
   "language": "python",
   "name": "python3"
  },
  "language_info": {
   "codemirror_mode": {
    "name": "ipython",
    "version": 3
   },
   "file_extension": ".py",
   "mimetype": "text/x-python",
   "name": "python",
   "nbconvert_exporter": "python",
   "pygments_lexer": "ipython3",
   "version": "3.12.3"
  }
 },
 "nbformat": 4,
 "nbformat_minor": 2
}
